{
  "nbformat": 4,
  "nbformat_minor": 0,
  "metadata": {
    "colab": {
      "provenance": [],
      "authorship_tag": "ABX9TyPMUXz/lTlNnMAEdkQ2ugYY",
      "include_colab_link": true
    },
    "kernelspec": {
      "name": "python3",
      "display_name": "Python 3"
    },
    "language_info": {
      "name": "python"
    }
  },
  "cells": [
    {
      "cell_type": "markdown",
      "metadata": {
        "id": "view-in-github",
        "colab_type": "text"
      },
      "source": [
        "<a href=\"https://colab.research.google.com/github/costaljorge/Algoritmo_Evolutivo/blob/main/AG_Evolutivo.ipynb\" target=\"_parent\"><img src=\"https://colab.research.google.com/assets/colab-badge.svg\" alt=\"Open In Colab\"/></a>"
      ]
    },
    {
      "cell_type": "code",
      "source": [
        "!pip install deap"
      ],
      "metadata": {
        "id": "7jomfZnXQjV6"
      },
      "execution_count": null,
      "outputs": []
    },
    {
      "cell_type": "code",
      "execution_count": 7,
      "metadata": {
        "colab": {
          "base_uri": "https://localhost:8080/"
        },
        "id": "iIZttkfVQFt4",
        "outputId": "89c8a9ad-e177-49fd-d160-e1d0f86e53b8"
      },
      "outputs": [
        {
          "output_type": "stream",
          "name": "stderr",
          "text": [
            "/usr/local/lib/python3.10/dist-packages/deap/creator.py:185: RuntimeWarning: A class named 'FitnessMax' has already been created and it will be overwritten. Consider deleting previous creation of that class or rename it.\n",
            "  warnings.warn(\"A class named '{0}' has already been created and it \"\n",
            "/usr/local/lib/python3.10/dist-packages/deap/creator.py:185: RuntimeWarning: A class named 'Individual' has already been created and it will be overwritten. Consider deleting previous creation of that class or rename it.\n",
            "  warnings.warn(\"A class named '{0}' has already been created and it \"\n"
          ]
        },
        {
          "output_type": "stream",
          "name": "stdout",
          "text": [
            "gen\tnevals\tavg     \tmin      \tmax    \n",
            "0  \t50    \t0.896503\t-0.309836\t0.99999\n",
            "1  \t30    \t0.985354\t0.86656  \t0.999991\n",
            "2  \t30    \t0.99499 \t0.842334 \t0.999993\n",
            "3  \t25    \t0.999631\t0.994866 \t0.999993\n",
            "4  \t28    \t0.999774\t0.991402 \t0.999993\n",
            "5  \t25    \t0.999987\t0.999805 \t0.999993\n",
            "6  \t30    \t0.976239\t-0.187449\t0.999993\n",
            "7  \t25    \t0.999992\t0.999991 \t0.999993\n",
            "8  \t31    \t0.999973\t0.99976  \t0.999993\n",
            "9  \t28    \t0.999993\t0.999992 \t0.999993\n",
            "10 \t27    \t0.999988\t0.999762 \t0.999993\n",
            "11 \t33    \t0.999993\t0.999993 \t0.999993\n",
            "12 \t27    \t0.999825\t0.994426 \t0.999993\n",
            "13 \t27    \t0.999993\t0.999992 \t0.999993\n",
            "14 \t34    \t0.999766\t0.994426 \t0.999993\n",
            "15 \t31    \t0.999879\t0.994297 \t0.999993\n",
            "16 \t36    \t0.999878\t0.994426 \t0.999993\n",
            "17 \t25    \t0.99975 \t0.993529 \t0.999993\n",
            "18 \t28    \t0.999984\t0.999761 \t0.999993\n",
            "19 \t40    \t0.99964 \t0.993857 \t0.999993\n",
            "20 \t32    \t0.999873\t0.994426 \t0.999993\n",
            "21 \t34    \t0.999869\t0.994426 \t0.999993\n",
            "22 \t37    \t0.99974 \t0.993482 \t0.999993\n",
            "23 \t27    \t0.999878\t0.99448  \t0.999993\n",
            "24 \t30    \t0.99987 \t0.993857 \t0.999993\n",
            "25 \t34    \t0.999742\t0.993454 \t0.999993\n",
            "26 \t29    \t0.999988\t0.999761 \t0.999993\n",
            "27 \t31    \t0.999648\t0.993495 \t0.999993\n",
            "28 \t32    \t0.999988\t0.999762 \t0.999993\n",
            "29 \t33    \t0.999878\t0.994426 \t0.999993\n",
            "30 \t31    \t0.999989\t0.999792 \t0.999993\n",
            "31 \t29    \t0.999331\t0.978178 \t0.999993\n",
            "32 \t25    \t0.999553\t0.978178 \t0.999993\n",
            "33 \t33    \t0.999993\t0.999992 \t0.999993\n",
            "34 \t34    \t0.999866\t0.993857 \t0.999993\n",
            "35 \t25    \t0.99964 \t0.993857 \t0.999993\n",
            "36 \t38    \t0.999759\t0.993857 \t0.999993\n",
            "37 \t35    \t0.999872\t0.994426 \t0.999993\n",
            "38 \t35    \t0.999454\t0.979068 \t0.999993\n",
            "39 \t30    \t0.99987 \t0.993857 \t0.999993\n",
            "40 \t39    \t0.999759\t0.993857 \t0.999993\n",
            "Melhores características:\n",
            "Altura\n",
            "Peso/Altura\n",
            "Peso^2\n",
            "Altura^2\n",
            "Peso*Altura\n"
          ]
        }
      ],
      "source": [
        "import pandas as pd\n",
        "import numpy as np\n",
        "from sklearn import datasets, linear_model\n",
        "from sklearn.model_selection import train_test_split\n",
        "from sklearn.preprocessing import StandardScaler\n",
        "from sklearn.metrics import mean_squared_error, r2_score\n",
        "from deap import creator, base, tools, algorithms\n",
        "from scipy import interpolate\n",
        "\n",
        "# Carregar o dataset\n",
        "df = pd.read_excel('/content/Dados_Pessoas.xlsx')\n",
        "\n",
        "# Criar novas características\n",
        "df['Peso/Altura'] = df['Peso'] / df['Altura']\n",
        "df['Peso^2'] = df['Peso'] ** 2\n",
        "df['Altura^2'] = df['Altura'] ** 2\n",
        "df['Idade^2'] = df['Idade'] ** 2\n",
        "df['Peso*Altura'] = df['Peso'] * df['Altura']\n",
        "df['Peso*Idade'] = df['Peso'] * df['Idade']\n",
        "df['Altura*Idade'] = df['Altura'] * df['Idade']\n",
        "\n",
        "# Normalizar as características\n",
        "scaler = StandardScaler()\n",
        "df = pd.DataFrame(scaler.fit_transform(df), columns=df.columns)\n",
        "\n",
        "# Dividir os dados\n",
        "X_train, X_test, y_train, y_test = train_test_split(df.drop('Peso', axis=1), df['Peso'], test_size=0.2, random_state=42)\n",
        "\n",
        "# Definir a função de aptidão\n",
        "creator.create(\"FitnessMax\", base.Fitness, weights=(1.0,))\n",
        "creator.create(\"Individual\", list, fitness=creator.FitnessMax)\n",
        "\n",
        "toolbox = base.Toolbox()\n",
        "toolbox.register(\"attr_bool\", np.random.choice, [0, 1])\n",
        "toolbox.register(\"individual\", tools.initRepeat, creator.Individual, toolbox.attr_bool, n=len(X_train.columns))\n",
        "toolbox.register(\"population\", tools.initRepeat, list, toolbox.individual)\n",
        "\n",
        "def evalOneMax(individual):\n",
        "    # Selecionar as características\n",
        "    selected_features = [feature for feature, mask in zip(X_train.columns, individual) if mask]\n",
        "\n",
        "    # Treinar o modelo\n",
        "    model = linear_model.LinearRegression()\n",
        "    model.fit(X_train[selected_features], y_train)\n",
        "\n",
        "    # Calcular o R2\n",
        "    y_pred = model.predict(X_test[selected_features])\n",
        "    r2 = r2_score(y_test, y_pred)\n",
        "\n",
        "    return r2,\n",
        "\n",
        "toolbox.register(\"evaluate\", evalOneMax)\n",
        "toolbox.register(\"mate\", tools.cxTwoPoint)\n",
        "toolbox.register(\"mutate\", tools.mutFlipBit, indpb=0.05)\n",
        "toolbox.register(\"select\", tools.selTournament, tournsize=3)\n",
        "\n",
        "# Executar o algoritmo evolutivo\n",
        "pop = toolbox.population(n=50)\n",
        "hof = tools.HallOfFame(1)\n",
        "stats = tools.Statistics(lambda ind: ind.fitness.values)\n",
        "stats.register(\"avg\", np.mean)\n",
        "stats.register(\"min\", np.min)\n",
        "stats.register(\"max\", np.max)\n",
        "\n",
        "pop, log = algorithms.eaSimple(pop, toolbox, cxpb=0.5, mutpb=0.2, ngen=40, stats=stats, halloffame=hof, verbose=True)\n",
        "\n",
        "# Imprimir as melhores características\n",
        "print(\"Melhores características:\")\n",
        "for feature, mask in zip(X_train.columns, hof[0]):\n",
        "    if mask:\n",
        "        print(feature)\n",
        "\n",
        "# Criar novas características\n",
        "df['Peso/Altura'] = df['Peso'] / df['Altura']\n",
        "df['Peso^2'] = df['Peso'] ** 2\n",
        "df['Altura^2'] = df['Altura'] ** 2\n",
        "df['Idade^2'] = df['Idade'] ** 2\n",
        "df['Peso*Altura'] = df['Peso'] * df['Altura']\n",
        "df['Peso*Idade'] = df['Peso'] * df['Idade']\n",
        "df['Altura*Idade'] = df['Altura'] * df['Idade']\n",
        "\n",
        "# Salvar o DataFrame com as novas características\n",
        "df.to_excel('Dados_Pessoas_new.xlsx', index=False)\n"
      ]
    }
  ]
}